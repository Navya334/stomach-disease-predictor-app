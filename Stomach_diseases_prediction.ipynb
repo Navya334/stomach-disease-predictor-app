{
 "cells": [
  {
   "cell_type": "code",
   "execution_count": null,
   "id": "8714285d-3ddb-46da-a9fe-33c0c644fca4",
   "metadata": {},
   "outputs": [],
   "source": [
    "import pandas as pd\n",
    "from sklearn.model_selection import train_test_split\n",
    "from sklearn.preprocessing import MultiLabelBinarizer\n",
    "from sklearn.ensemble import RandomForestClassifier\n",
    "from sklearn.metrics import classification_report, confusion_matrix\n",
    "import seaborn as sns\n",
    "import matplotlib.pyplot as plt"
   ]
  },
  {
   "cell_type": "code",
   "execution_count": null,
   "id": "950902cd-110e-4226-9401-1577dd4d91ef",
   "metadata": {},
   "outputs": [],
   "source": [
    "# Dataset 1: Symptoms and Diseases\n",
    "df_symptoms = pd.read_csv(\"stomach_disease_dataset.csv\")\n",
    "# Dataset 2: Diseases and Doctor Info\n",
    "df_doctors = pd.read_csv(\"doctor_dataset.csv\")"
   ]
  },
  {
   "cell_type": "code",
   "execution_count": null,
   "id": "f0ce01a8-ecb4-4404-bab2-4d6ea8447c63",
   "metadata": {},
   "outputs": [],
   "source": [
    "df_symptoms.head()"
   ]
  },
  {
   "cell_type": "code",
   "execution_count": null,
   "id": "1969efbe-aeab-4871-af3e-39b3d9b1f8b9",
   "metadata": {},
   "outputs": [],
   "source": [
    "df_doctors.head()"
   ]
  },
  {
   "cell_type": "code",
   "execution_count": null,
   "id": "085dce1f-4b70-48ab-924d-2dc06bf14e05",
   "metadata": {},
   "outputs": [],
   "source": [
    "df_symptoms.info()"
   ]
  },
  {
   "cell_type": "code",
   "execution_count": null,
   "id": "f9c158b5-bc64-4eb0-8b4e-2fec09c35eea",
   "metadata": {},
   "outputs": [],
   "source": [
    "df_doctors.info()"
   ]
  },
  {
   "cell_type": "code",
   "execution_count": null,
   "id": "21f5f322-3a4b-4486-a648-ab70ab40a072",
   "metadata": {},
   "outputs": [],
   "source": [
    "df_symptoms.describe()"
   ]
  },
  {
   "cell_type": "code",
   "execution_count": null,
   "id": "2c09bd5d-3a6d-42dc-8569-6d6062ee1f7e",
   "metadata": {},
   "outputs": [],
   "source": [
    "df_doctors.describe()"
   ]
  },
  {
   "cell_type": "code",
   "execution_count": null,
   "id": "01e7b9ca-0121-4185-b89b-9a333757afdf",
   "metadata": {},
   "outputs": [],
   "source": [
    "# Combine 6 symptoms into a list per row\n",
    "symptom_cols = ['Symptom_1', 'Symptom_2', 'Symptom_3', 'Symptom_4', 'Symptom_5', 'Symptom_6']\n",
    "df_symptoms['symptom_list'] = df_symptoms[symptom_cols].values.tolist()\n",
    "\n",
    "# Encode symptom lists using MultiLabelBinarizer\n",
    "mlb = MultiLabelBinarizer()\n",
    "X = mlb.fit_transform(df_symptoms['symptom_list'])\n",
    "\n",
    "# Target variable: Disease\n",
    "y = df_symptoms['Disease']"
   ]
  },
  {
   "cell_type": "code",
   "execution_count": null,
   "id": "aed65823-aea1-45b4-a8e3-d5cf538d3c4c",
   "metadata": {},
   "outputs": [],
   "source": [
    "# Train, Validation, Test Split (60/20/20)\n",
    "X_train, X_temp, y_train, y_temp = train_test_split(X, y, test_size=0.4, random_state=42, stratify=y)\n",
    "X_val, X_test, y_val, y_test = train_test_split(X_temp, y_temp, test_size=0.5, random_state=42, stratify=y_temp)"
   ]
  },
  {
   "cell_type": "code",
   "execution_count": null,
   "id": "49e18437-2509-48fd-ad57-d36bfc27f53e",
   "metadata": {},
   "outputs": [],
   "source": [
    "model = RandomForestClassifier(random_state=42)\n",
    "model.fit(X_train, y_train)"
   ]
  },
  {
   "cell_type": "code",
   "execution_count": null,
   "id": "420e47aa-d9d8-408d-8a95-3e5fd7e6639f",
   "metadata": {},
   "outputs": [],
   "source": [
    "# Evaluate\n",
    "print(\"\\n--- Validation Set ---\")\n",
    "val_preds = model.predict(X_val)\n",
    "print(classification_report(y_val, val_preds))"
   ]
  },
  {
   "cell_type": "code",
   "execution_count": null,
   "id": "b9962539-e4d6-43bb-9a66-370cd562ff69",
   "metadata": {},
   "outputs": [],
   "source": [
    "print(\"\\n--- Test Set ---\")\n",
    "test_preds = model.predict(X_test)\n",
    "print(classification_report(y_test, test_preds))"
   ]
  },
  {
   "cell_type": "code",
   "execution_count": null,
   "id": "1fbd9168-74b0-449a-99ef-b053c9c7c1ab",
   "metadata": {},
   "outputs": [],
   "source": [
    "plt.figure(figsize=(10, 7))\n",
    "sns.heatmap(confusion_matrix(y_test, test_preds), annot=True, fmt='d',\n",
    "            xticklabels=model.classes_, yticklabels=model.classes_, cmap='Blues')\n",
    "plt.title(\"Confusion Matrix on Test Set\")\n",
    "plt.xlabel(\"Predicted\")\n",
    "plt.ylabel(\"Actual\")\n",
    "plt.xticks(rotation=45)\n",
    "plt.yticks(rotation=45)\n",
    "plt.tight_layout()\n",
    "plt.show()"
   ]
  },
  {
   "cell_type": "code",
   "execution_count": null,
   "id": "03258647-9513-4ce0-aa7e-ccad9b7b7ed5",
   "metadata": {},
   "outputs": [],
   "source": [
    "# Function to predict disease\n",
    "def predict_disease_from_user_input():\n",
    "    print(\"\\n🩺 Available Symptoms:\")\n",
    "    print(\", \".join(sorted(mlb.classes_)))\n",
    "\n",
    "    input_str = input(\"\\nEnter symptoms separated by commas (e.g., nausea,vomiting,bloating):\\n\")\n",
    "    user_symptoms = [sym.strip().lower() for sym in input_str.split(\",\")]\n",
    "    # Validate input\n",
    "    for sym in user_symptoms:\n",
    "        if sym not in mlb.classes_:\n",
    "            print(f\"\\n❌ Invalid symptom: '{sym}'\")\n",
    "            print(\"Please choose symptoms only from the available list.\")\n",
    "            return\n",
    "    # Transform input and predict\n",
    "    input_encoded = mlb.transform([user_symptoms])\n",
    "    predicted_disease = model.predict(input_encoded)[0]\n",
    "    # Retrieve doctor info\n",
    "    matching_doctor = df_doctors[df_doctors['Disease'] == predicted_disease]\n",
    "    if matching_doctor.empty:\n",
    "        print(f\"\\nPredicted Disease: {predicted_disease}\")\n",
    "        print(\"⚠️ No doctor found for this disease in the dataset.\")\n",
    "    else:\n",
    "        doc = matching_doctor.iloc[0]\n",
    "        print(\"\\n✅ Prediction Result:\")\n",
    "        print(f\"Symptoms You Entered: {user_symptoms}\")\n",
    "        print(f\"Predicted Disease: {predicted_disease}\")\n",
    "        print(f\"Doctor Name: {doc['Doctor_Name']}\")\n",
    "        print(f\"Specialization: {doc['Doctor_Specialization']}\")\n",
    "        print(f\"Contact: {doc['Doctor_Contact']}\")\n",
    "# Run the prediction interaction\n",
    "predict_disease_from_user_input()"
   ]
  }
 ],
 "metadata": {
  "kernelspec": {
   "display_name": "Python [conda env:base] *",
   "language": "python",
   "name": "conda-base-py"
  },
  "language_info": {
   "codemirror_mode": {
    "name": "ipython",
    "version": 3
   },
   "file_extension": ".py",
   "mimetype": "text/x-python",
   "name": "python",
   "nbconvert_exporter": "python",
   "pygments_lexer": "ipython3",
   "version": "3.11.5"
  }
 },
 "nbformat": 4,
 "nbformat_minor": 5
}
